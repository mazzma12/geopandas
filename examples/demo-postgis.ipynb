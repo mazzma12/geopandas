{
 "cells": [
  {
   "cell_type": "markdown",
   "metadata": {},
   "source": [
    "# Resources\n",
    "\n",
    "https://matthewrocklin.com/blog/work/2017/09/21/accelerating-geopandas-1\n",
    "http://www.portailsig.org/content/python-geopandas-ou-le-pandas-spatial\n",
    "\n",
    "## Pandas SQL doc \n",
    "\n",
    "* https://pandas.pydata.org/pandas-docs/stable/io.html#io-sql\n",
    "* https://pandas.pydata.org/pandas-docs/stable/io.html#engine-connection-examples"
   ]
  },
  {
   "cell_type": "code",
   "execution_count": 1,
   "metadata": {
    "ExecuteTime": {
     "end_time": "2018-09-16T10:38:29.461693Z",
     "start_time": "2018-09-16T10:38:29.149608Z"
    }
   },
   "outputs": [
    {
     "name": "stderr",
     "output_type": "stream",
     "text": [
      "/home/mazzo/Envs/geopandas_dev/lib/python3.5/site-packages/psycopg2/__init__.py:144: UserWarning: The psycopg2 wheel package will be renamed from release 2.8; in order to keep installing from binary please use \"pip install psycopg2-binary\" instead. For details see: <http://initd.org/psycopg/docs/install.html#binary-install-from-pypi>.\n",
      "  \"\"\")\n"
     ]
    },
    {
     "data": {
      "text/plain": [
       "[(1,)]"
      ]
     },
     "execution_count": 1,
     "metadata": {},
     "output_type": "execute_result"
    }
   ],
   "source": [
    "import numpy as np\n",
    "import pandas as pd\n",
    "import geopandas as gpd\n",
    "\n",
    "from sqlalchemy import create_engine\n",
    "import sqlalchemy\n",
    "\n",
    "connection_string = 'postgresql://root:@localhost:5432/test_geopandas'\n",
    "db = create_engine(connection_string, echo=False)\n",
    "engine = db.connect()\n",
    "\n",
    "# Check connection\n",
    "result = engine.execute(\"SELECT 1\")\n",
    "list(result)"
   ]
  },
  {
   "cell_type": "markdown",
   "metadata": {},
   "source": [
    "# Load data"
   ]
  },
  {
   "cell_type": "code",
   "execution_count": 32,
   "metadata": {
    "ExecuteTime": {
     "end_time": "2018-09-16T12:43:35.699631Z",
     "start_time": "2018-09-16T12:43:35.658682Z"
    }
   },
   "outputs": [],
   "source": [
    "countries = gpd.read_file(gpd.datasets.get_path('naturalearth_lowres'))\n",
    "cities = gpd.read_file(gpd.datasets.get_path('naturalearth_cities'))\n",
    "# For consistency\n",
    "countries = countries.set_index('name').sort_index()\n",
    "cities = cities.set_index('name').sort_index()\n",
    "\n",
    "# Add fake dates\n",
    "cities['year'] = pd.date_range('1900', periods=len(cities), freq='Y' )\n",
    "countries['year'] = pd.date_range('1900', periods=len(countries), freq='Y' )"
   ]
  },
  {
   "cell_type": "markdown",
   "metadata": {},
   "source": [
    "# Geo SQL\n",
    "\n",
    "Using Postgis `GEOMETRY` Schema and shapely figures"
   ]
  },
  {
   "cell_type": "markdown",
   "metadata": {},
   "source": [
    "## Ingfest a gdf"
   ]
  },
  {
   "cell_type": "code",
   "execution_count": 33,
   "metadata": {
    "ExecuteTime": {
     "end_time": "2018-09-16T12:43:37.407513Z",
     "start_time": "2018-09-16T12:43:37.386009Z"
    }
   },
   "outputs": [],
   "source": [
    "from geopandas import io"
   ]
  },
  {
   "cell_type": "code",
   "execution_count": 34,
   "metadata": {
    "ExecuteTime": {
     "end_time": "2018-09-16T12:43:37.580660Z",
     "start_time": "2018-09-16T12:43:37.566389Z"
    }
   },
   "outputs": [],
   "source": [
    "from geoalchemy2 import Geometry, WKTElement\n",
    "import shapely"
   ]
  },
  {
   "cell_type": "code",
   "execution_count": 35,
   "metadata": {
    "ExecuteTime": {
     "end_time": "2018-09-16T12:43:37.727586Z",
     "start_time": "2018-09-16T12:43:37.711340Z"
    }
   },
   "outputs": [],
   "source": [
    "# Do not use `geoalchemy.sql.from_shape()`\n",
    "# https://github.com/geoalchemy/geoalchemy2/issues/132"
   ]
  },
  {
   "cell_type": "code",
   "execution_count": 36,
   "metadata": {
    "ExecuteTime": {
     "end_time": "2018-09-16T12:43:38.773347Z",
     "start_time": "2018-09-16T12:43:38.602543Z"
    }
   },
   "outputs": [],
   "source": [
    "table_name = 'country'\n",
    "countries.to_postgis(table_name, engine, if_exists='replace')"
   ]
  },
  {
   "cell_type": "code",
   "execution_count": 37,
   "metadata": {
    "ExecuteTime": {
     "end_time": "2018-09-16T12:43:38.807317Z",
     "start_time": "2018-09-16T12:43:38.774351Z"
    }
   },
   "outputs": [],
   "source": [
    "retrieved_countries = gpd.read_postgis('country', engine, geom_col='geometry', \n",
    "                                       index_col='name', coerce_float=False)\n",
    "retrieved_countries = retrieved_countries.sort_index()"
   ]
  },
  {
   "cell_type": "code",
   "execution_count": 38,
   "metadata": {
    "ExecuteTime": {
     "end_time": "2018-09-16T12:43:38.935655Z",
     "start_time": "2018-09-16T12:43:38.914018Z"
    }
   },
   "outputs": [
    {
     "data": {
      "text/plain": [
       "(pop_est              float64\n",
       " continent             object\n",
       " iso_a3                object\n",
       " gdp_md_est           float64\n",
       " geometry              object\n",
       " year          datetime64[ns]\n",
       " dtype: object,\n",
       " array(['Polygon', 'MultiPolygon'], dtype=object),\n",
       " {'init': 'epsg:4326'},\n",
       " (177, 6))"
      ]
     },
     "execution_count": 38,
     "metadata": {},
     "output_type": "execute_result"
    }
   ],
   "source": [
    "(countries.dtypes, countries.geom_type.unique(), \n",
    " countries.crs, countries.shape)"
   ]
  },
  {
   "cell_type": "code",
   "execution_count": 39,
   "metadata": {
    "ExecuteTime": {
     "end_time": "2018-09-16T12:43:39.507963Z",
     "start_time": "2018-09-16T12:43:39.484760Z"
    }
   },
   "outputs": [
    {
     "data": {
      "text/plain": [
       "(pop_est              float64\n",
       " continent             object\n",
       " iso_a3                object\n",
       " gdp_md_est           float64\n",
       " geometry              object\n",
       " year          datetime64[ns]\n",
       " dtype: object,\n",
       " array(['Polygon', 'MultiPolygon'], dtype=object),\n",
       " {'init': 'epsg:4326'},\n",
       " (177, 6))"
      ]
     },
     "execution_count": 39,
     "metadata": {},
     "output_type": "execute_result"
    }
   ],
   "source": [
    "(retrieved_countries.dtypes, retrieved_countries.geom_type.unique(), \n",
    " retrieved_countries.crs, retrieved_countries.shape)"
   ]
  },
  {
   "cell_type": "markdown",
   "metadata": {},
   "source": [
    "### Ingest cities"
   ]
  },
  {
   "cell_type": "code",
   "execution_count": 40,
   "metadata": {
    "ExecuteTime": {
     "end_time": "2018-09-16T12:43:40.222125Z",
     "start_time": "2018-09-16T12:43:40.139983Z"
    }
   },
   "outputs": [],
   "source": [
    "table_name = 'city'\n",
    "cities.to_postgis(table_name, engine, if_exists='replace')"
   ]
  },
  {
   "cell_type": "code",
   "execution_count": 41,
   "metadata": {
    "ExecuteTime": {
     "end_time": "2018-09-16T12:43:40.345383Z",
     "start_time": "2018-09-16T12:43:40.300242Z"
    }
   },
   "outputs": [],
   "source": [
    "# Retrieve\n",
    "retrieved_cities = gpd.read_postgis(table_name, engine, geom_col='geometry',\n",
    "                                    index_col='name')\n"
   ]
  },
  {
   "cell_type": "code",
   "execution_count": 46,
   "metadata": {
    "ExecuteTime": {
     "end_time": "2018-09-16T12:51:33.799764Z",
     "start_time": "2018-09-16T12:51:33.772566Z"
    }
   },
   "outputs": [
    {
     "data": {
      "text/plain": [
       "(geometry            object\n",
       " year        datetime64[ns]\n",
       " dtype: object,\n",
       " array(['Point'], dtype=object),\n",
       " {'init': 'epsg:4326'},\n",
       " (202, 2))"
      ]
     },
     "execution_count": 46,
     "metadata": {},
     "output_type": "execute_result"
    }
   ],
   "source": [
    "(cities.dtypes, cities.geom_type.unique(), \n",
    " cities.crs, cities.shape)"
   ]
  },
  {
   "cell_type": "code",
   "execution_count": 47,
   "metadata": {
    "ExecuteTime": {
     "end_time": "2018-09-16T12:51:33.985526Z",
     "start_time": "2018-09-16T12:51:33.971019Z"
    }
   },
   "outputs": [
    {
     "data": {
      "text/plain": [
       "(geometry            object\n",
       " year        datetime64[ns]\n",
       " dtype: object,\n",
       " array(['Point'], dtype=object),\n",
       " {'init': 'epsg:4326'},\n",
       " (202, 2))"
      ]
     },
     "execution_count": 47,
     "metadata": {},
     "output_type": "execute_result"
    }
   ],
   "source": [
    "(retrieved_cities.dtypes, retrieved_cities.geom_type.unique(), \n",
    " retrieved_cities.crs, retrieved_cities.shape)"
   ]
  },
  {
   "cell_type": "markdown",
   "metadata": {},
   "source": [
    "# WIP: Tests"
   ]
  },
  {
   "cell_type": "code",
   "execution_count": 55,
   "metadata": {
    "ExecuteTime": {
     "end_time": "2018-09-16T12:53:23.305708Z",
     "start_time": "2018-09-16T12:53:23.295283Z"
    }
   },
   "outputs": [],
   "source": [
    "from geopandas.testing import assert_geodataframe_equal"
   ]
  },
  {
   "cell_type": "code",
   "execution_count": 56,
   "metadata": {
    "ExecuteTime": {
     "end_time": "2018-09-16T12:53:23.802658Z",
     "start_time": "2018-09-16T12:53:23.773380Z"
    }
   },
   "outputs": [],
   "source": [
    "assert_geodataframe_equal(countries, retrieved_countries, check_geom_type=True, check_less_precise=True)"
   ]
  },
  {
   "cell_type": "markdown",
   "metadata": {},
   "source": [
    "# Spatial Query"
   ]
  },
  {
   "cell_type": "code",
   "execution_count": null,
   "metadata": {},
   "outputs": [],
   "source": [
    "from sqlalchemy import Table, Column, String\n",
    "from sqlalchemy.sql import select, text\n",
    "\n",
    "table_name = 'city'\n",
    "metadata = sqlalchemy.MetaData()\n",
    "city_table = Table(table_name, metadata,\n",
    "                   Column('name', String),\n",
    "                     Column('geometry', Geometry('POINT', 4326))\n",
    "                        )"
   ]
  },
  {
   "cell_type": "code",
   "execution_count": null,
   "metadata": {},
   "outputs": [],
   "source": [
    "# s = select([text('city_geo')])\n",
    "s = select([city_table])"
   ]
  },
  {
   "cell_type": "code",
   "execution_count": null,
   "metadata": {},
   "outputs": [],
   "source": [
    "str(s)"
   ]
  },
  {
   "cell_type": "code",
   "execution_count": null,
   "metadata": {},
   "outputs": [],
   "source": [
    "res = engine.execute(s)\n",
    "for row in res:\n",
    "    list(row)\n",
    "    break\n",
    "#     print(row['name'])"
   ]
  },
  {
   "cell_type": "code",
   "execution_count": null,
   "metadata": {},
   "outputs": [],
   "source": [
    "from sqlalchemy import func"
   ]
  },
  {
   "cell_type": "code",
   "execution_count": null,
   "metadata": {},
   "outputs": [],
   "source": [
    "table_name = 'country'\n",
    "metadata = sqlalchemy.MetaData()\n",
    "country_table = Table(table_name, metadata,\n",
    "                   Column('name', String),\n",
    "                     Column('geometry', Geometry('GEOMETRY', 4326))\n",
    "                        )"
   ]
  },
  {
   "cell_type": "code",
   "execution_count": null,
   "metadata": {},
   "outputs": [],
   "source": [
    "cities_wkte = cities.geometry.map(lambda x: WKTElement(x.wkt, srid=4326)\n",
    "                                     ).astype(str)"
   ]
  },
  {
   "cell_type": "code",
   "execution_count": null,
   "metadata": {},
   "outputs": [],
   "source": [
    "idx = countries.contains(cities.iloc[0].geometry)\n",
    "countries.loc[idx]"
   ]
  },
  {
   "cell_type": "code",
   "execution_count": null,
   "metadata": {},
   "outputs": [],
   "source": [
    "s = select([country_table], country_table.c.geometry.contains(\n",
    "    cities_wkte.iloc[0]))"
   ]
  },
  {
   "cell_type": "code",
   "execution_count": null,
   "metadata": {},
   "outputs": [],
   "source": [
    "str(s)"
   ]
  },
  {
   "cell_type": "code",
   "execution_count": null,
   "metadata": {},
   "outputs": [],
   "source": [
    "res = engine.execute(s)\n",
    "for row in res:\n",
    "    list(row)[0]"
   ]
  },
  {
   "cell_type": "code",
   "execution_count": null,
   "metadata": {},
   "outputs": [],
   "source": [
    "retrieved_gdf = gpd.read_postgis(s, engine, geom_col='geometry')"
   ]
  },
  {
   "cell_type": "code",
   "execution_count": null,
   "metadata": {},
   "outputs": [],
   "source": [
    "retrieved_gdf"
   ]
  },
  {
   "cell_type": "markdown",
   "metadata": {},
   "source": [
    "## Points within polygon :\n",
    "\n"
   ]
  },
  {
   "cell_type": "code",
   "execution_count": null,
   "metadata": {},
   "outputs": [],
   "source": [
    "table_name = 'capital'\n",
    "metadata = sqlalchemy.MetaData()\n",
    "capital_table = Table(table_name, metadata,\n",
    "                   Column('name', String),\n",
    "                     Column('geometry', Geometry('POINT', 4326))\n",
    "                        )"
   ]
  },
  {
   "cell_type": "code",
   "execution_count": null,
   "metadata": {},
   "outputs": [],
   "source": [
    "table_name = 'country'\n",
    "metadata = sqlalchemy.MetaData()\n",
    "country_table = Table(table_name, metadata,\n",
    "                   Column('name', String),\n",
    "                     Column('geometry', Geometry('POLYGON', 4326))\n",
    "                        )"
   ]
  },
  {
   "cell_type": "code",
   "execution_count": null,
   "metadata": {},
   "outputs": [],
   "source": [
    "country_wkte = countries.geometry.map(lambda x: WKTElement(x.wkt, srid=4326)\n",
    "                                     )"
   ]
  },
  {
   "cell_type": "code",
   "execution_count": null,
   "metadata": {},
   "outputs": [],
   "source": [
    "my_shape_wkte = country_wkte.loc[countries.index == 'Italy'].iloc[0]"
   ]
  },
  {
   "cell_type": "code",
   "execution_count": null,
   "metadata": {},
   "outputs": [],
   "source": [
    "my_shape_str = str(my_shape_wkte)\n"
   ]
  },
  {
   "cell_type": "code",
   "execution_count": null,
   "metadata": {},
   "outputs": [],
   "source": [
    "s = select([capital_table], capital_table.c.geometry.ST_Intersects(\n",
    "    my_shape_wkte))"
   ]
  },
  {
   "cell_type": "code",
   "execution_count": null,
   "metadata": {},
   "outputs": [],
   "source": [
    "str(s)"
   ]
  },
  {
   "cell_type": "code",
   "execution_count": null,
   "metadata": {},
   "outputs": [],
   "source": [
    "res = engine.execute(s)\n",
    "for row in res:\n",
    "    list(row)[0]"
   ]
  },
  {
   "cell_type": "markdown",
   "metadata": {},
   "source": [
    "## Conclusion operations \n",
    "* Weird results with `contains` as Russia is already retrieved as containing vatican city\n",
    "* Use intersects instead https://github.com/geoalchemy/geoalchemy2/issues/90"
   ]
  },
  {
   "cell_type": "markdown",
   "metadata": {},
   "source": [
    "# WIP: Scale\n",
    "\n",
    "Ingest 1e6 cities and retrieve the points in Italy"
   ]
  },
  {
   "cell_type": "code",
   "execution_count": null,
   "metadata": {},
   "outputs": [],
   "source": [
    "def augment_gdf(gdf, factor=10):\n",
    "    return gpd.GeoDataFrame(np.vstack([gdf.values] * factor), \n",
    "                            columns=gdf.columns, crs=gdf.crs)"
   ]
  },
  {
   "cell_type": "code",
   "execution_count": null,
   "metadata": {},
   "outputs": [],
   "source": [
    "augmented_cities = augment_gdf(cities, 100000)\n",
    "augmented_countries = augment_gdf(countries, 100000)"
   ]
  },
  {
   "cell_type": "code",
   "execution_count": null,
   "metadata": {},
   "outputs": [],
   "source": [
    "augmented_cities.shape"
   ]
  },
  {
   "cell_type": "code",
   "execution_count": null,
   "metadata": {},
   "outputs": [],
   "source": [
    "augmented_cities.to_postgis('capital', engine, if_exists='replace', chunksize=30000)"
   ]
  },
  {
   "cell_type": "markdown",
   "metadata": {},
   "source": [
    "* Remote \n",
    "\n",
    "| time | documents | operation | \n",
    "| ---- | ------ | --- | \n",
    "| 36s | 2000 | ingestion | \n",
    "| 6min27 | 20000 | ingestion | \n",
    "| ?? | 200000 | ingestion | \n",
    "| 2s | 2,000,000 | query 30,000 points in 1 POLYGON  | \n",
    "| 2min16 | 2,000,000 | query ALL |\n",
    "| 30s | 2,000,000 | query 440,000 points in 39 POLYGONS  | \n",
    "\n",
    "\n",
    "* On localhost\n",
    "\n",
    "\n",
    "| time | documents | operation | \n",
    "| ---- | ------ | --- | \n",
    "| 1s| 20000 | ingestion | \n",
    "| 29s | 200000 | ingestion | \n",
    "| 7s | 200000 | query all  | \n",
    "| 1s | 200000 | query 3000 points in POLYGON  | \n",
    "| 5min10 | 2,000,000 | ingestion | \n",
    "| 1min40 | 2,000,000 | query ALL |\n",
    "| 1s45 | 2,000,000 | query 30,000 points in POLYGON  | \n",
    "| Client Failed | 20,000,000 | ingestion  | \n"
   ]
  },
  {
   "cell_type": "code",
   "execution_count": null,
   "metadata": {},
   "outputs": [],
   "source": [
    "# Ingest 2000 points in 26s "
   ]
  },
  {
   "cell_type": "code",
   "execution_count": null,
   "metadata": {},
   "outputs": [],
   "source": [
    "%%time \n",
    "# Fetch all\n",
    "retrieved_cities = gpd.read_postgis('capital', engine, geom_col='geometry')"
   ]
  },
  {
   "cell_type": "code",
   "execution_count": null,
   "metadata": {},
   "outputs": [],
   "source": [
    "retrieved_cities.shape"
   ]
  },
  {
   "cell_type": "code",
   "execution_count": null,
   "metadata": {},
   "outputs": [],
   "source": [
    "# Fetch in polygon\n",
    "my_shape_wkte2 = country_wkte.loc[countries.name == 'Italy'].iloc[0]\n",
    "my_shape_wkte3 = country_wkte.loc[countries.name == 'Spain'].iloc[0]"
   ]
  },
  {
   "cell_type": "code",
   "execution_count": null,
   "metadata": {},
   "outputs": [],
   "source": [
    "expr = (capital_table.c.geometry.ST_Intersects(my_shape_wkte2) \n",
    "        | capital_table.c.geometry.ST_Intersects(my_shape_wkte3))"
   ]
  },
  {
   "cell_type": "code",
   "execution_count": null,
   "metadata": {},
   "outputs": [],
   "source": [
    "from sqlalchemy import select\n",
    "s = select([capital_table], \n",
    "          expr )\n",
    "\n",
    "retrieved_points = gpd.read_postgis(s, engine,  geom_col='geometry')"
   ]
  },
  {
   "cell_type": "code",
   "execution_count": null,
   "metadata": {},
   "outputs": [],
   "source": [
    "retrieved_points.name.value_counts()"
   ]
  },
  {
   "cell_type": "code",
   "execution_count": null,
   "metadata": {},
   "outputs": [],
   "source": [
    "retrieved_points.shape"
   ]
  },
  {
   "cell_type": "code",
   "execution_count": null,
   "metadata": {},
   "outputs": [],
   "source": [
    "# Simple within \n",
    "my_shape = countries.loc[countries.name == 'Italy'].iloc[0]\n",
    "# my_shape = countries.loc[countries.name == 'Italy']"
   ]
  },
  {
   "cell_type": "code",
   "execution_count": null,
   "metadata": {},
   "outputs": [],
   "source": [
    "retrieve_points2 = augmented_cities.within(my_shape.geometry)\n",
    "retrieve_points2 = augmented_cities.loc[retrieve_points2]\n",
    "retrieve_points2.shape"
   ]
  },
  {
   "cell_type": "code",
   "execution_count": null,
   "metadata": {},
   "outputs": [],
   "source": [
    "retrieve_points2.sum()"
   ]
  },
  {
   "cell_type": "markdown",
   "metadata": {},
   "source": [
    "## Query data from several polygons"
   ]
  },
  {
   "cell_type": "code",
   "execution_count": null,
   "metadata": {},
   "outputs": [],
   "source": [
    "europe = countries.loc[countries.continent == 'Europe']\n",
    "europe_wkte = europe.geometry.map(lambda x: WKTElement(x.wkt, srid=4326))\n"
   ]
  },
  {
   "cell_type": "code",
   "execution_count": null,
   "metadata": {},
   "outputs": [],
   "source": [
    "from sqlalchemy import or_"
   ]
  },
  {
   "cell_type": "code",
   "execution_count": null,
   "metadata": {},
   "outputs": [],
   "source": [
    "wktes = or_(capital_table.c.geometry.ST_Intersects(wkte) for wkte in europe_wkte)"
   ]
  },
  {
   "cell_type": "code",
   "execution_count": null,
   "metadata": {},
   "outputs": [],
   "source": [
    "len(wktes)"
   ]
  },
  {
   "cell_type": "code",
   "execution_count": null,
   "metadata": {},
   "outputs": [],
   "source": [
    "from sqlalchemy import select\n",
    "s = select([capital_table], \n",
    "          wktes )\n",
    "\n",
    "retrieved_points = gpd.read_postgis(s, engine,  geom_col='geometry')"
   ]
  },
  {
   "cell_type": "code",
   "execution_count": null,
   "metadata": {},
   "outputs": [],
   "source": [
    "retrieved_points.name.value_counts().shape"
   ]
  },
  {
   "cell_type": "code",
   "execution_count": null,
   "metadata": {},
   "outputs": [],
   "source": [
    "europe_wkte = europe.geometry.map(lambda x: WKTElement(x.wkt, srid=4326))\n",
    "\n",
    "expr = (capital_table.c.geometry.ST_Intersects(my_shape_wkte2) \n",
    "        | capital_table.c.geometry.ST_Intersects(my_shape_wkte3))"
   ]
  },
  {
   "cell_type": "markdown",
   "metadata": {},
   "source": [
    "# Read from POSTGIS\n",
    "\n",
    "## Amazon"
   ]
  },
  {
   "cell_type": "code",
   "execution_count": null,
   "metadata": {},
   "outputs": [],
   "source": [
    "db_json  = {\"host\": \"dssg2017.csya4zsfb6y4.us-east-1.rds.amazonaws.com\", \n",
    " \"port\": 5432, \n",
    " \"database\": \"geohack\",\n",
    " \"user\": \"geohackstudent\", \n",
    "\"password\": \"geohackStudent2017\"}"
   ]
  },
  {
   "cell_type": "code",
   "execution_count": null,
   "metadata": {},
   "outputs": [],
   "source": [
    "import psycopg2\n",
    "\n",
    "conn = psycopg2.connect(**db_json)"
   ]
  },
  {
   "cell_type": "code",
   "execution_count": null,
   "metadata": {},
   "outputs": [],
   "source": [
    "hydrobas_ww = gpd.read_postgis(\n",
    "    \"SELECT * FROM hybas_na_lev00_v1c WHERE pfaf_4 = 7831\", \n",
    "    conn, geom_col='polygongeom', crs={'init': u'epsg:4326'}, \n",
    "    coerce_float=False)"
   ]
  },
  {
   "cell_type": "code",
   "execution_count": null,
   "metadata": {},
   "outputs": [],
   "source": [
    "hydrobas_ww.plot(column='pfaf_7', cmap='Paired', categorical=True, figsize=(14, 8))\n"
   ]
  },
  {
   "cell_type": "code",
   "execution_count": null,
   "metadata": {},
   "outputs": [],
   "source": [
    "## Do aggregation and operations "
   ]
  }
 ],
 "metadata": {
  "kernelspec": {
   "display_name": "geopandas_dev",
   "language": "python",
   "name": "geopandas_dev"
  },
  "language_info": {
   "codemirror_mode": {
    "name": "ipython",
    "version": 3
   },
   "file_extension": ".py",
   "mimetype": "text/x-python",
   "name": "python",
   "nbconvert_exporter": "python",
   "pygments_lexer": "ipython3",
   "version": "3.5.2"
  },
  "toc": {
   "nav_menu": {},
   "number_sections": true,
   "sideBar": true,
   "skip_h1_title": false,
   "toc_cell": false,
   "toc_position": {},
   "toc_section_display": "block",
   "toc_window_display": false
  }
 },
 "nbformat": 4,
 "nbformat_minor": 2
}
